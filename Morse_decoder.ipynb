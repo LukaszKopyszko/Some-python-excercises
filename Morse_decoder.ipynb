{
 "cells": [
  {
   "cell_type": "markdown",
   "metadata": {},
   "source": [
    "Morse code decoder. "
   ]
  },
  {
   "cell_type": "code",
   "execution_count": 9,
   "metadata": {},
   "outputs": [
    {
     "name": "stdout",
     "output_type": "stream",
     "text": [
      "Your normal message: What is your favorite programming language? \n",
      ".--.....-..-|.....|-.-----..-.-.|..-..-..----.-.....-.|.--..-.-----..-..-----..-.--.|.-...--.--...-.---....--..|\n"
     ]
    }
   ],
   "source": [
    "def morse_code():\n",
    "    morse_text = ''\n",
    "    code_dict = {' ':'|', 'a':'.-', 'ą':'.-.-','b':'-...','c':'-.-.','ć':'-.-..','d':'-..','e':'.',\n",
    "                 'ę':'..-..','f':'..-.','g':'--.','h':'....','i':'..','j':'.---','k':'-.-','l':'.-..',\n",
    "                'ł':'.-..-','m':'--','n':'-.','ń':'--.--'\n",
    "                , 'o':'---','ó':'---.', 'p':'.--.','q':'--.-','r':'.-.','s':'...','ś':'...-...','t':'..-'\n",
    "                 ,'u':'..-','v':'..-','w':'.--','x':'-..-','y':'-.--','z':'--..','ź':'--..-','ż':'--..-.',\n",
    "                 '1':'.----', '2':'..---', '3':'...--', '4':'....-', '5':'.....', '6':'-....',  '7':'--...',\n",
    "                 '8':'---..', '9':'----.', '0':'-----', ', ':'--..--', '.':'.-.-.-', '?':'..--..', '/':'-..-.', '-':'-....-', \n",
    "                '(':'-.--.', ')':'-.--.-'}\n",
    "    \n",
    "    text = str(input(\"Your normal message: \"))\n",
    "    for letter in text:\n",
    "        morse_text += code_dict[letter.lower()]\n",
    "    return morse_text\n",
    "print(morse_code())"
   ]
  }
 ],
 "metadata": {
  "kernelspec": {
   "display_name": "Python 3",
   "language": "python",
   "name": "python3"
  },
  "language_info": {
   "codemirror_mode": {
    "name": "ipython",
    "version": 3
   },
   "file_extension": ".py",
   "mimetype": "text/x-python",
   "name": "python",
   "nbconvert_exporter": "python",
   "pygments_lexer": "ipython3",
   "version": "3.8.5"
  }
 },
 "nbformat": 4,
 "nbformat_minor": 4
}
