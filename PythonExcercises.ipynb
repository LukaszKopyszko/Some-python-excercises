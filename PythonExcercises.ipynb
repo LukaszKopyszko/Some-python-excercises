{
 "cells": [
  {
   "cell_type": "code",
   "execution_count": 2,
   "metadata": {},
   "outputs": [
    {
     "name": "stdout",
     "output_type": "stream",
     "text": [
      "Podaj nowe slowo lub zdanie: Dwa lata temu mialem dwadziescia lat\n",
      "Dwa lata temu mialem dwadziescia lat\n",
      "Liczba slow:  6 Liczba liter:  31 Czestotliwosc wystepowania: {'d': 3, 'w': 2, 'a': 7, 'l': 3, 't': 3, 'e': 3, 'm': 3, 'u': 1, 'i': 3, 'z': 1, 's': 1, 'c': 1}\n"
     ]
    }
   ],
   "source": [
    "## Zadanie 1\n",
    "#wykorzystanie hash table\n",
    "slowo = str(input(\"Podaj nowe slowo lub zdanie: \"))\n",
    "print(slowo)\n",
    "liczba_slow = 1 \n",
    "literki = 0 \n",
    "hash_table = {}\n",
    "for literka in slowo:\n",
    "    literka = literka.lower()\n",
    "    if literka  == ' ':\n",
    "        liczba_slow += 1\n",
    "    else:\n",
    "        literki+=1\n",
    "        if literka in hash_table:\n",
    "            hash_table[literka]+=1\n",
    "        else:\n",
    "            hash_table[literka]=1\n",
    "                \n",
    "print(\"Liczba slow: \", liczba_slow, \"Liczba liter: \", literki, \"Czestotliwosc wystepowania:\", hash_table)"
   ]
  },
  {
   "cell_type": "code",
   "execution_count": 29,
   "metadata": {},
   "outputs": [
    {
     "name": "stdout",
     "output_type": "stream",
     "text": [
      "Podaj slowo do sprawdzenia: kajak\n",
      "Tak, slowo kajak jest palindromem.\n"
     ]
    }
   ],
   "source": [
    "##ZADANIE 2 PALINDROM\n",
    "slowo = str(input(\"Podaj slowo do sprawdzenia: \"))\n",
    "def CzyPalindrom(slowo):\n",
    "    return slowo == slowo[::-1]\n",
    "odpowiedz = CzyPalindrom(slowo)\n",
    "if odpowiedz:\n",
    "    print(\"Tak, slowo \" + str(slowo)+ \" jest palindromem.\")\n",
    "else:\n",
    "    print(\"Nie, slowo \" + str(slowo) + \" nie jest palindromem.\")"
   ]
  },
  {
   "cell_type": "code",
   "execution_count": 30,
   "metadata": {},
   "outputs": [
    {
     "name": "stdout",
     "output_type": "stream",
     "text": [
      "Podaj slowo do sprawdzenia: kajak\n",
      "Tak, slowo kajak jest palindromem.\n"
     ]
    }
   ],
   "source": [
    "##ZADANIE 2 bez definiowania funkcji\n",
    "slowo = str(input(\"Podaj slowo do sprawdzenia: \"))\n",
    "if slowo == slowo[::-1]:\n",
    "    print(\"Tak, slowo \" + str(slowo)+ \" jest palindromem.\")\n",
    "else:\n",
    "    print(\"Nie, slowo \" + str(slowo) + \" nie jest palindromem.\")"
   ]
  },
  {
   "cell_type": "code",
   "execution_count": null,
   "metadata": {},
   "outputs": [],
   "source": [
    "## ZADANIE 3 liczba pierwsza to taka która dzieli sie przez 1 i samą siebie, oprócz liczby 0 i 1. liczba 2 to wyjątek -\n",
    "## bo to jedyna parzysta liczba pierwsza\n",
    "\n",
    "def czy_liczba_pierwsza(liczba):\n",
    "    for i in range(2, liczba):\n",
    "        if liczba % i == 0:\n",
    "            return False\n",
    "    return True\n",
    "## wypisanie 10 pierwszy liczb pierwszych z podanego przez użytkownika zakresu\n",
    "tab = []\n",
    "dolny_zakres = int(input(\"Podaj dolny zakres: \"))\n",
    "gorny_zakres = int(input(\"Podaj górny zakres: \"))\n",
    "for i in range(dolny_zakres,gorny_zakres):\n",
    "    if czy_liczba_pierwsza(i) == True:\n",
    "        tab.append(i)\n",
    "    else:\n",
    "        pass\n",
    "print(tab[0:10])    "
   ]
  },
  {
   "cell_type": "code",
   "execution_count": 63,
   "metadata": {},
   "outputs": [
    {
     "name": "stdout",
     "output_type": "stream",
     "text": [
      "                   #\n",
      "                  ##\n",
      "                 ###\n",
      "                ####\n",
      "               #####\n",
      "              ######\n",
      "             #######\n",
      "            ########\n",
      "           #########\n",
      "          ##########\n",
      "         ###########\n",
      "        ############\n",
      "       #############\n",
      "      ##############\n",
      "     ###############\n",
      "    ################\n",
      "   #################\n",
      "  ##################\n",
      " ###################\n",
      "####################\n"
     ]
    }
   ],
   "source": [
    "def stairs(liczba):\n",
    "    liczba_spacji = liczba-1\n",
    "    liczba_schodkow = 1\n",
    "    while liczba:\n",
    "        print(\" \"*liczba_spacji + \"#\"*liczba_schodkow)\n",
    "        liczba -= 1\n",
    "        liczba_spacji -= 1\n",
    "        liczba_schodkow += 1\n",
    "stairs(20)        \n"
   ]
  },
  {
   "cell_type": "code",
   "execution_count": 75,
   "metadata": {
    "scrolled": true
   },
   "outputs": [
    {
     "name": "stdout",
     "output_type": "stream",
     "text": [
      "[1, 3, 5, 7, 9, 11, 13, 15, 17, 19, 21, 23, 25, 27, 29, 31, 33, 35, 37, 39, 41, 43, 45, 47, 49, 51, 53, 55, 57, 59, 61, 63, 65, 67, 69, 71, 73, 75, 77, 79, 81, 83, 85, 87, 89, 91, 93, 95, 97, 99]\n"
     ]
    }
   ],
   "source": [
    "#ZADANIE 5 z liczbami naturalnymi\n",
    "tab = []\n",
    "for i in range(101):\n",
    "    if i %2 == 0:\n",
    "        pass\n",
    "    else:\n",
    "        tab.append(i)\n",
    "print(tab)        "
   ]
  },
  {
   "cell_type": "code",
   "execution_count": 2,
   "metadata": {},
   "outputs": [
    {
     "name": "stdout",
     "output_type": "stream",
     "text": [
      "Z jaka predkoscia jechal kierowca? 49\n",
      "Mandat wynosi: 0zl\n"
     ]
    }
   ],
   "source": [
    "## ZADANIE 6\n",
    "mandat = 0\n",
    "dopuszczalna = 50\n",
    "predkosc = int(input(\"Z jaka predkoscia jechal kierowca? \"))\n",
    "przekroczona = predkosc-dopuszczalna\n",
    "if przekroczona < 10:\n",
    "    print(\"Mandat wynosi: \"+str(mandat)+\"zl\")\n",
    "elif przekroczona >=10 and przekroczona %10 == 0:\n",
    "    mandat+=50*przekroczona/10\n",
    "    print(\"Mandat wynosi: \"+str(mandat)+\"zl\")\n",
    "elif przekroczona > 10 and przekroczona %10 != 0:    \n",
    "    mandat += 50*przekroczona/10 - przekroczona%10*5\n",
    "    print(\"Mandat wynosi: \"+str(mandat)+\"zl\")"
   ]
  },
  {
   "cell_type": "code",
   "execution_count": 47,
   "metadata": {},
   "outputs": [
    {
     "name": "stdout",
     "output_type": "stream",
     "text": [
      "Podaj a: -10\n",
      "Podaj b: 22\n",
      "Podaj c: 63\n",
      "delta: 3004\n",
      "Sa dwa miejsca zerowe: -1.6404379212089442 3.840437921208944\n"
     ]
    },
    {
     "data": {
      "text/plain": [
       "<function matplotlib.pyplot.show(close=None, block=None)>"
      ]
     },
     "execution_count": 47,
     "metadata": {},
     "output_type": "execute_result"
    },
    {
     "data": {
      "image/png": "[encoded data removed]",
      "text/plain": [
       "<Figure size 432x288 with 1 Axes>"
      ]
     },
     "metadata": {
      "needs_background": "light"
     },
     "output_type": "display_data"
    }
   ],
   "source": [
    "## ZADANIE 7\n",
    "import matplotlib.pyplot as plt\n",
    "import numpy as np\n",
    "a = int(input(\"Podaj a: \"))\n",
    "b = int(input(\"Podaj b: \"))\n",
    "c = int(input(\"Podaj c: \"))\n",
    "\n",
    "obliczona_delta = (b**2)-(4*a*c)\n",
    "print(\"delta: \" +str(obliczona_delta))\n",
    "if obliczona_delta < 0:\n",
    "    print(\"Brak miejsc zerowych\")\n",
    "elif obliczona_delta == 0:\n",
    "    x = (-b)/(a*2)\n",
    "    print(\"Jest jedno miejsce zerowe: \" + str(x))\n",
    "elif obliczona_delta > 0:\n",
    "    x1 = (-b + obliczona_delta**0.5)/(a*2)\n",
    "    x2 = (-b - obliczona_delta**0.5)/(a*2)\n",
    "    print(\"Sa dwa miejsca zerowe: \" + str(x1) +  \" \" + str(x2))\n",
    "\n",
    "    \n",
    "## RYSUJEMY WYKRESIK :)\n",
    "\n",
    "xi = np.linspace(-10,10,1000)\n",
    "y = a*xi**2 + b*xi + c\n",
    "plt.plot(y)\n",
    "plt.show"
   ]
  },
  {
   "cell_type": "code",
   "execution_count": 64,
   "metadata": {},
   "outputs": [
    {
     "name": "stdout",
     "output_type": "stream",
     "text": [
      "Podaj liczbe schodków: 3\n",
      "  #\n",
      " ##\n",
      "###\n"
     ]
    }
   ],
   "source": [
    "liczba = int(input(\"Podaj liczbe schodków: \"))\n",
    "liczba_spacji = liczba-1\n",
    "liczba_schodkow = 1\n",
    "while liczba:\n",
    "    print(\" \"*liczba_spacji + \"#\"*liczba_schodkow)\n",
    "    liczba -= 1\n",
    "    liczba_spacji -= 1\n",
    "    liczba_schodkow += 1   "
   ]
  },
  {
   "cell_type": "code",
   "execution_count": 1,
   "metadata": {},
   "outputs": [
    {
     "name": "stdout",
     "output_type": "stream",
     "text": [
      "ILE!? 5\n",
      "|_\n",
      "  |_\n",
      "    |_\n",
      "      |_\n",
      "        |_\n"
     ]
    }
   ],
   "source": [
    "row = '|_'\n",
    "space = \"\"\n",
    "height = int(input(\"ILE!? \"))\n",
    "for i in range(0, height):\n",
    "    print(space + row)\n",
    "    space += \"  \""
   ]
  },
  {
   "cell_type": "code",
   "execution_count": 3,
   "metadata": {},
   "outputs": [
    {
     "name": "stdout",
     "output_type": "stream",
     "text": [
      "podaj slowo zjebie: kajak\n",
      "slowo kajak jest palindromem\n",
      "slowo kajak jest palindromem\n",
      "slowo kajak jest palindromem\n",
      "slowo kajak jest palindromem\n",
      "slowo kajak jest palindromem\n"
     ]
    }
   ],
   "source": [
    "slowo = str(input(\"podaj slowo zjebie: \"))\n",
    "for litera in slowo:\n",
    "    if litera == litera[::-1]:\n",
    "        print(\"slowo \" + slowo + \" jest palindromem\")\n",
    "    else:\n",
    "        print(\"slowo \" + str(slowo) + \" nie jest palindromem\")"
   ]
  },
  {
   "cell_type": "code",
   "execution_count": 7,
   "metadata": {},
   "outputs": [
    {
     "name": "stdout",
     "output_type": "stream",
     "text": [
      "Podaj liczbe całkowitą: 0\n",
      "ZERO\n"
     ]
    }
   ],
   "source": [
    "liczba_calkowita = int(input(\"Podaj liczbe całkowitą: \"))\n",
    "if liczba_calkowita %2 == 0 and liczba_calkowita != 0:\n",
    "    print(\"PARZYSTA\")\n",
    "elif liczba_calkowita %2 != 0:    \n",
    "    print(\"NIEPARZYSTA\")\n",
    "elif liczba_calkowita ==0:    \n",
    "    print(\"ZERO\")"
   ]
  },
  {
   "cell_type": "code",
   "execution_count": 12,
   "metadata": {},
   "outputs": [
    {
     "name": "stdout",
     "output_type": "stream",
     "text": [
      "FIZZ\n",
      "101\n",
      "102\n",
      "103\n",
      "104\n",
      "FIZZBUZZ\n",
      "106\n",
      "107\n",
      "108\n",
      "109\n",
      "FIZZ\n",
      "111\n",
      "BUZZ\n",
      "113\n",
      "114\n",
      "FIZZ\n",
      "116\n",
      "117\n",
      "118\n",
      "BUZZ\n",
      "FIZZ\n",
      "121\n",
      "122\n",
      "123\n",
      "124\n",
      "FIZZ\n",
      "BUZZ\n",
      "127\n",
      "128\n",
      "129\n",
      "FIZZ\n",
      "131\n",
      "132\n",
      "BUZZ\n",
      "134\n",
      "FIZZ\n",
      "136\n",
      "137\n",
      "138\n",
      "139\n",
      "FIZZBUZZ\n",
      "141\n",
      "142\n",
      "143\n",
      "144\n",
      "FIZZ\n",
      "146\n",
      "BUZZ\n",
      "148\n",
      "149\n",
      "FIZZ\n",
      "151\n",
      "152\n",
      "153\n",
      "BUZZ\n",
      "FIZZ\n",
      "156\n",
      "157\n",
      "158\n",
      "159\n",
      "FIZZ\n",
      "BUZZ\n",
      "162\n",
      "163\n",
      "164\n",
      "FIZZ\n",
      "166\n",
      "167\n",
      "BUZZ\n",
      "169\n",
      "FIZZ\n",
      "171\n",
      "172\n",
      "173\n",
      "174\n",
      "FIZZBUZZ\n",
      "176\n",
      "177\n",
      "178\n",
      "179\n",
      "FIZZ\n",
      "181\n",
      "BUZZ\n",
      "183\n",
      "184\n",
      "FIZZ\n",
      "186\n",
      "187\n",
      "188\n",
      "BUZZ\n",
      "FIZZ\n",
      "191\n",
      "192\n",
      "193\n",
      "194\n",
      "FIZZ\n",
      "BUZZ\n",
      "197\n",
      "198\n",
      "199\n",
      "FIZZ\n",
      "201\n",
      "202\n",
      "BUZZ\n",
      "204\n",
      "FIZZ\n",
      "206\n",
      "207\n",
      "208\n",
      "209\n",
      "FIZZBUZZ\n",
      "211\n",
      "212\n",
      "213\n",
      "214\n",
      "FIZZ\n",
      "216\n",
      "BUZZ\n",
      "218\n",
      "219\n",
      "FIZZ\n",
      "221\n",
      "222\n",
      "223\n",
      "BUZZ\n",
      "FIZZ\n",
      "226\n",
      "227\n",
      "228\n",
      "229\n",
      "FIZZ\n",
      "BUZZ\n",
      "232\n",
      "233\n",
      "234\n",
      "FIZZ\n",
      "236\n",
      "237\n",
      "BUZZ\n",
      "239\n",
      "FIZZ\n",
      "241\n",
      "242\n",
      "243\n",
      "244\n",
      "FIZZBUZZ\n",
      "246\n",
      "247\n",
      "248\n",
      "249\n",
      "FIZZ\n",
      "251\n",
      "BUZZ\n",
      "253\n",
      "254\n",
      "FIZZ\n",
      "256\n",
      "257\n",
      "258\n",
      "BUZZ\n",
      "FIZZ\n",
      "261\n",
      "262\n",
      "263\n",
      "264\n",
      "FIZZ\n",
      "BUZZ\n",
      "267\n",
      "268\n",
      "269\n",
      "FIZZ\n",
      "271\n",
      "272\n",
      "BUZZ\n",
      "274\n",
      "FIZZ\n",
      "276\n",
      "277\n",
      "278\n",
      "279\n",
      "FIZZBUZZ\n",
      "281\n",
      "282\n",
      "283\n",
      "284\n",
      "FIZZ\n",
      "286\n",
      "BUZZ\n",
      "288\n",
      "289\n",
      "FIZZ\n",
      "291\n",
      "292\n",
      "293\n",
      "BUZZ\n",
      "FIZZ\n",
      "296\n",
      "297\n",
      "298\n",
      "299\n",
      "FIZZ\n"
     ]
    }
   ],
   "source": [
    "for i in range(100,301):\n",
    "    if i %5 == 0 and i%7 !=0:\n",
    "        print(\"FIZZ\")\n",
    "    elif i%7 ==0 and i%5!=0:\n",
    "        print(\"BUZZ\")\n",
    "    elif i%5 ==0 and i%7 ==0:\n",
    "        print(\"FIZZBUZZ\")\n",
    "    else:\n",
    "        print(i)"
   ]
  },
  {
   "cell_type": "code",
   "execution_count": 15,
   "metadata": {},
   "outputs": [
    {
     "name": "stdout",
     "output_type": "stream",
     "text": [
      "Podaj nowe slowo lub zdanie: Maam raka\n",
      "Maam raka\n",
      "{'m': 2, 'a': 4, ' ': 1, 'r': 1, 'k': 1}\n"
     ]
    }
   ],
   "source": [
    "slowo = str(input(\"Podaj nowe slowo lub zdanie: \"))\n",
    "print(slowo)\n",
    "hash_table = {}\n",
    "for literka in slowo:\n",
    "    literka = literka.lower()\n",
    "    if literka in hash_table:\n",
    "        hash_table[literka]+=1\n",
    "    else:\n",
    "        hash_table[literka]=1\n",
    "                \n",
    "print(hash_table)"
   ]
  },
  {
   "cell_type": "code",
   "execution_count": 24,
   "metadata": {},
   "outputs": [
    {
     "data": {
      "text/plain": [
       "6"
      ]
     },
     "execution_count": 24,
     "metadata": {},
     "output_type": "execute_result"
    }
   ],
   "source": [
    "def factorial(n):\n",
    "    if n == 0:\n",
    "        return 1\n",
    "    else:\n",
    "        return n * factorial(n-1)\n",
    "factorial(3)"
   ]
  },
  {
   "cell_type": "code",
   "execution_count": 31,
   "metadata": {},
   "outputs": [
    {
     "name": "stdout",
     "output_type": "stream",
     "text": [
      "ILE!? 6\n",
      "##\n",
      " ##\n",
      "  ##\n",
      "   ##\n",
      "    ##\n",
      "     ##\n"
     ]
    }
   ],
   "source": [
    "schodek = '##'\n",
    "spacja = \"\"\n",
    "n = int(input(\"ILE!? \"))\n",
    "for i in range(0, n):\n",
    "    print(spacja + schodek)\n",
    "    spacja += \" \""
   ]
  },
  {
   "cell_type": "code",
   "execution_count": null,
   "metadata": {},
   "outputs": [],
   "source": []
  }
 ],
 "metadata": {
  "kernelspec": {
   "display_name": "Python 3",
   "language": "python",
   "name": "python3"
  },
  "language_info": {
   "codemirror_mode": {
    "name": "ipython",
    "version": 3
   },
   "file_extension": ".py",
   "mimetype": "text/x-python",
   "name": "python",
   "nbconvert_exporter": "python",
   "pygments_lexer": "ipython3",
   "version": "3.8.5"
  }
 },
 "nbformat": 4,
 "nbformat_minor": 4
}
